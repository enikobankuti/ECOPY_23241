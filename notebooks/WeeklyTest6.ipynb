{
 "cells": [
  {
   "cell_type": "markdown",
   "id": "de9d9737616514b8",
   "metadata": {
    "collapsed": false
   },
   "source": [
    "## Az eredményeket mentsd a src/weekly modul-ba weekly_test_6.py néven"
   ]
  },
  {
   "cell_type": "markdown",
   "id": "a9789db8f0fbd7ec",
   "metadata": {
    "collapsed": false
   },
   "source": [
    "#### Használható modulok: pathlib, pandas, typing, str, statsmodels"
   ]
  },
  {
   "cell_type": "code",
   "execution_count": 2,
   "id": "dfea6e648868022e",
   "metadata": {
    "collapsed": false,
    "ExecuteTime": {
     "end_time": "2023-10-25T17:19:04.730730Z",
     "start_time": "2023-10-25T17:19:04.726401Z"
    }
   },
   "outputs": [],
   "source": [
    "from pathlib import Path"
   ]
  },
  {
   "cell_type": "code",
   "execution_count": 3,
   "outputs": [],
   "source": [
    "datalib = Path.cwd().parent.joinpath('data')"
   ],
   "metadata": {
    "collapsed": false,
    "ExecuteTime": {
     "end_time": "2023-10-25T17:19:05.218606Z",
     "start_time": "2023-10-25T17:19:05.203434Z"
    }
   },
   "id": "b0b5dd4685315eda"
  },
  {
   "cell_type": "code",
   "execution_count": 3,
   "outputs": [],
   "source": [],
   "metadata": {
    "collapsed": false,
    "ExecuteTime": {
     "end_time": "2023-10-25T17:19:06.422471Z",
     "start_time": "2023-10-25T17:19:06.409315Z"
    }
   },
   "id": "5158b6341d0bcbba"
  },
  {
   "cell_type": "code",
   "execution_count": 4,
   "id": "9d26aec7b4e97407",
   "metadata": {
    "collapsed": false,
    "ExecuteTime": {
     "end_time": "2023-10-25T17:19:06.781676Z",
     "start_time": "2023-10-25T17:19:06.766217Z"
    }
   },
   "outputs": [
    {
     "data": {
      "text/plain": "'\\n1., Olvasd be a data mappa sp500.parquet nevű fájlját egy DataFrame-be. A betöltéshez használt engine paramétere legyen fastparquet\\n'"
     },
     "execution_count": 4,
     "metadata": {},
     "output_type": "execute_result"
    }
   ],
   "source": [
    "\"\"\"\n",
    "1., Olvasd be a data mappa sp500.parquet nevű fájlját egy DataFrame-be. A betöltéshez használt engine paramétere legyen fastparquet\n",
    "\"\"\""
   ]
  },
  {
   "cell_type": "code",
   "execution_count": 35,
   "outputs": [],
   "source": [
    "import pandas as pd \n",
    "\n",
    "data = pd.read_parquet('/Users/Enci/Documents/GitHub/ECOPY_23241/data/sp500.parquet', engine='fastparquet')"
   ],
   "metadata": {
    "collapsed": false,
    "ExecuteTime": {
     "end_time": "2023-10-25T17:33:40.250754Z",
     "start_time": "2023-10-25T17:33:40.230910Z"
    }
   },
   "id": "43f685fc4780d23a"
  },
  {
   "cell_type": "code",
   "execution_count": 36,
   "outputs": [
    {
     "data": {
      "text/plain": "           Symbol  Monthly Returns\nDate                              \n2000-02-29      A         0.569405\n2000-03-31      A         0.001203\n2000-05-31      A        -0.169252\n2000-06-30      A         0.001698\n2000-07-31      A        -0.447458\n...           ...              ...\n2022-06-30    ZTS         0.005616\n2022-08-31    ZTS        -0.142536\n2022-09-30    ZTS        -0.052642\n2022-10-31    ZTS         0.018952\n2022-11-30    ZTS         0.022284\n\n[86611 rows x 2 columns]",
      "text/html": "<div>\n<style scoped>\n    .dataframe tbody tr th:only-of-type {\n        vertical-align: middle;\n    }\n\n    .dataframe tbody tr th {\n        vertical-align: top;\n    }\n\n    .dataframe thead th {\n        text-align: right;\n    }\n</style>\n<table border=\"1\" class=\"dataframe\">\n  <thead>\n    <tr style=\"text-align: right;\">\n      <th></th>\n      <th>Symbol</th>\n      <th>Monthly Returns</th>\n    </tr>\n    <tr>\n      <th>Date</th>\n      <th></th>\n      <th></th>\n    </tr>\n  </thead>\n  <tbody>\n    <tr>\n      <th>2000-02-29</th>\n      <td>A</td>\n      <td>0.569405</td>\n    </tr>\n    <tr>\n      <th>2000-03-31</th>\n      <td>A</td>\n      <td>0.001203</td>\n    </tr>\n    <tr>\n      <th>2000-05-31</th>\n      <td>A</td>\n      <td>-0.169252</td>\n    </tr>\n    <tr>\n      <th>2000-06-30</th>\n      <td>A</td>\n      <td>0.001698</td>\n    </tr>\n    <tr>\n      <th>2000-07-31</th>\n      <td>A</td>\n      <td>-0.447458</td>\n    </tr>\n    <tr>\n      <th>...</th>\n      <td>...</td>\n      <td>...</td>\n    </tr>\n    <tr>\n      <th>2022-06-30</th>\n      <td>ZTS</td>\n      <td>0.005616</td>\n    </tr>\n    <tr>\n      <th>2022-08-31</th>\n      <td>ZTS</td>\n      <td>-0.142536</td>\n    </tr>\n    <tr>\n      <th>2022-09-30</th>\n      <td>ZTS</td>\n      <td>-0.052642</td>\n    </tr>\n    <tr>\n      <th>2022-10-31</th>\n      <td>ZTS</td>\n      <td>0.018952</td>\n    </tr>\n    <tr>\n      <th>2022-11-30</th>\n      <td>ZTS</td>\n      <td>0.022284</td>\n    </tr>\n  </tbody>\n</table>\n<p>86611 rows × 2 columns</p>\n</div>"
     },
     "execution_count": 36,
     "metadata": {},
     "output_type": "execute_result"
    }
   ],
   "source": [
    "data"
   ],
   "metadata": {
    "collapsed": false,
    "ExecuteTime": {
     "end_time": "2023-10-25T17:33:40.426413Z",
     "start_time": "2023-10-25T17:33:40.415162Z"
    }
   },
   "id": "7db1857c9f1ab4b"
  },
  {
   "cell_type": "code",
   "execution_count": 37,
   "outputs": [
    {
     "data": {
      "text/plain": "'\\n2., Olvasd be az ff_factors.parquet fájlt egy DataFrame-be. A betöltéshez használt engine paramétere legyen fastparquet\\n'"
     },
     "execution_count": 37,
     "metadata": {},
     "output_type": "execute_result"
    }
   ],
   "source": [
    "\"\"\"\n",
    "2., Olvasd be az ff_factors.parquet fájlt egy DataFrame-be. A betöltéshez használt engine paramétere legyen fastparquet\n",
    "\"\"\""
   ],
   "metadata": {
    "collapsed": false,
    "ExecuteTime": {
     "end_time": "2023-10-25T17:33:40.577994Z",
     "start_time": "2023-10-25T17:33:40.517811Z"
    }
   },
   "id": "d42ee754b557dcef"
  },
  {
   "cell_type": "code",
   "execution_count": 38,
   "outputs": [],
   "source": [
    "data2 = pd.read_parquet('/Users/Enci/Documents/GitHub/ECOPY_23241/data/ff_factors.parquet', engine='fastparquet')"
   ],
   "metadata": {
    "collapsed": false,
    "ExecuteTime": {
     "end_time": "2023-10-25T17:33:40.720967Z",
     "start_time": "2023-10-25T17:33:40.705209Z"
    }
   },
   "id": "c757103536fa82f7"
  },
  {
   "cell_type": "code",
   "execution_count": 39,
   "outputs": [
    {
     "data": {
      "text/plain": "            Mkt-RF     SMB     HML     RF\nDate                                     \n1926-07-31  0.0296 -0.0256 -0.0243  0.022\n1926-08-31  0.0264 -0.0117  0.0382  0.025\n1926-09-30  0.0036 -0.0140  0.0013  0.023\n1926-10-31 -0.0324 -0.0009  0.0070  0.032\n1926-11-30  0.0253 -0.0010 -0.0051  0.031\n...            ...     ...     ...    ...\n2023-03-31  0.0251 -0.0551 -0.0885  0.036\n2023-04-30  0.0061 -0.0335 -0.0004  0.035\n2023-05-31  0.0035  0.0161 -0.0772  0.036\n2023-06-30  0.0646  0.0154 -0.0026  0.040\n2023-07-31  0.0321  0.0207  0.0413  0.045\n\n[1165 rows x 4 columns]",
      "text/html": "<div>\n<style scoped>\n    .dataframe tbody tr th:only-of-type {\n        vertical-align: middle;\n    }\n\n    .dataframe tbody tr th {\n        vertical-align: top;\n    }\n\n    .dataframe thead th {\n        text-align: right;\n    }\n</style>\n<table border=\"1\" class=\"dataframe\">\n  <thead>\n    <tr style=\"text-align: right;\">\n      <th></th>\n      <th>Mkt-RF</th>\n      <th>SMB</th>\n      <th>HML</th>\n      <th>RF</th>\n    </tr>\n    <tr>\n      <th>Date</th>\n      <th></th>\n      <th></th>\n      <th></th>\n      <th></th>\n    </tr>\n  </thead>\n  <tbody>\n    <tr>\n      <th>1926-07-31</th>\n      <td>0.0296</td>\n      <td>-0.0256</td>\n      <td>-0.0243</td>\n      <td>0.022</td>\n    </tr>\n    <tr>\n      <th>1926-08-31</th>\n      <td>0.0264</td>\n      <td>-0.0117</td>\n      <td>0.0382</td>\n      <td>0.025</td>\n    </tr>\n    <tr>\n      <th>1926-09-30</th>\n      <td>0.0036</td>\n      <td>-0.0140</td>\n      <td>0.0013</td>\n      <td>0.023</td>\n    </tr>\n    <tr>\n      <th>1926-10-31</th>\n      <td>-0.0324</td>\n      <td>-0.0009</td>\n      <td>0.0070</td>\n      <td>0.032</td>\n    </tr>\n    <tr>\n      <th>1926-11-30</th>\n      <td>0.0253</td>\n      <td>-0.0010</td>\n      <td>-0.0051</td>\n      <td>0.031</td>\n    </tr>\n    <tr>\n      <th>...</th>\n      <td>...</td>\n      <td>...</td>\n      <td>...</td>\n      <td>...</td>\n    </tr>\n    <tr>\n      <th>2023-03-31</th>\n      <td>0.0251</td>\n      <td>-0.0551</td>\n      <td>-0.0885</td>\n      <td>0.036</td>\n    </tr>\n    <tr>\n      <th>2023-04-30</th>\n      <td>0.0061</td>\n      <td>-0.0335</td>\n      <td>-0.0004</td>\n      <td>0.035</td>\n    </tr>\n    <tr>\n      <th>2023-05-31</th>\n      <td>0.0035</td>\n      <td>0.0161</td>\n      <td>-0.0772</td>\n      <td>0.036</td>\n    </tr>\n    <tr>\n      <th>2023-06-30</th>\n      <td>0.0646</td>\n      <td>0.0154</td>\n      <td>-0.0026</td>\n      <td>0.040</td>\n    </tr>\n    <tr>\n      <th>2023-07-31</th>\n      <td>0.0321</td>\n      <td>0.0207</td>\n      <td>0.0413</td>\n      <td>0.045</td>\n    </tr>\n  </tbody>\n</table>\n<p>1165 rows × 4 columns</p>\n</div>"
     },
     "execution_count": 39,
     "metadata": {},
     "output_type": "execute_result"
    }
   ],
   "source": [
    "data2"
   ],
   "metadata": {
    "collapsed": false,
    "ExecuteTime": {
     "end_time": "2023-10-25T17:33:40.813789Z",
     "start_time": "2023-10-25T17:33:40.803208Z"
    }
   },
   "id": "3036e0eea5639b35"
  },
  {
   "cell_type": "code",
   "execution_count": 40,
   "id": "b79c977da040d844",
   "metadata": {
    "collapsed": false,
    "ExecuteTime": {
     "end_time": "2023-10-25T17:33:41.012459Z",
     "start_time": "2023-10-25T17:33:40.954095Z"
    }
   },
   "outputs": [
    {
     "data": {
      "text/plain": "\"\\n3., Kapcsold össze a két DataFrame-t egy új DataFrame-be. Az összekapcsolás módja, hogy a hozam adatokra balról kapcsoljuk rá a factor adatokat a 'Date' elsődleges kulcs alapján.\\n\""
     },
     "execution_count": 40,
     "metadata": {},
     "output_type": "execute_result"
    }
   ],
   "source": [
    "\"\"\"\n",
    "3., Kapcsold össze a két DataFrame-t egy új DataFrame-be. Az összekapcsolás módja, hogy a hozam adatokra balról kapcsoljuk rá a factor adatokat a 'Date' elsődleges kulcs alapján.\n",
    "\"\"\""
   ]
  },
  {
   "cell_type": "markdown",
   "source": [
    "![Joined data](../resources/weekly6/joined_data.jpg)"
   ],
   "metadata": {
    "collapsed": false
   },
   "id": "cf54c6765186a23e"
  },
  {
   "cell_type": "markdown",
   "source": [],
   "metadata": {
    "collapsed": false
   },
   "id": "8afe68cf9661fc95"
  },
  {
   "cell_type": "code",
   "execution_count": 41,
   "outputs": [],
   "source": [
    "merge_data = pd.merge(data, data2, on='Date', how='left')"
   ],
   "metadata": {
    "collapsed": false,
    "ExecuteTime": {
     "end_time": "2023-10-25T17:33:41.401993Z",
     "start_time": "2023-10-25T17:33:41.344176Z"
    }
   },
   "id": "34bc40351687c32"
  },
  {
   "cell_type": "code",
   "execution_count": 42,
   "outputs": [
    {
     "data": {
      "text/plain": "           Symbol  Monthly Returns  Mkt-RF     SMB     HML     RF\nDate                                                             \n2000-02-29      A         0.569405  0.0245  0.2136 -0.0959  0.043\n2000-03-31      A         0.001203  0.0520 -0.1720  0.0813  0.047\n2000-05-31      A        -0.169252 -0.0442 -0.0605  0.0475  0.050\n2000-06-30      A         0.001698  0.0464  0.1284 -0.0842  0.040\n2000-07-31      A        -0.447458 -0.0251 -0.0307  0.0831  0.048\n...           ...              ...     ...     ...     ...    ...\n2022-06-30    ZTS         0.005616 -0.0843  0.0210 -0.0597  0.006\n2022-08-31    ZTS        -0.142536 -0.0377  0.0140  0.0029  0.019\n2022-09-30    ZTS        -0.052642 -0.0935 -0.0081  0.0005  0.019\n2022-10-31    ZTS         0.018952  0.0783  0.0006  0.0801  0.023\n2022-11-30    ZTS         0.022284  0.0460 -0.0352  0.0138  0.029\n\n[86611 rows x 6 columns]",
      "text/html": "<div>\n<style scoped>\n    .dataframe tbody tr th:only-of-type {\n        vertical-align: middle;\n    }\n\n    .dataframe tbody tr th {\n        vertical-align: top;\n    }\n\n    .dataframe thead th {\n        text-align: right;\n    }\n</style>\n<table border=\"1\" class=\"dataframe\">\n  <thead>\n    <tr style=\"text-align: right;\">\n      <th></th>\n      <th>Symbol</th>\n      <th>Monthly Returns</th>\n      <th>Mkt-RF</th>\n      <th>SMB</th>\n      <th>HML</th>\n      <th>RF</th>\n    </tr>\n    <tr>\n      <th>Date</th>\n      <th></th>\n      <th></th>\n      <th></th>\n      <th></th>\n      <th></th>\n      <th></th>\n    </tr>\n  </thead>\n  <tbody>\n    <tr>\n      <th>2000-02-29</th>\n      <td>A</td>\n      <td>0.569405</td>\n      <td>0.0245</td>\n      <td>0.2136</td>\n      <td>-0.0959</td>\n      <td>0.043</td>\n    </tr>\n    <tr>\n      <th>2000-03-31</th>\n      <td>A</td>\n      <td>0.001203</td>\n      <td>0.0520</td>\n      <td>-0.1720</td>\n      <td>0.0813</td>\n      <td>0.047</td>\n    </tr>\n    <tr>\n      <th>2000-05-31</th>\n      <td>A</td>\n      <td>-0.169252</td>\n      <td>-0.0442</td>\n      <td>-0.0605</td>\n      <td>0.0475</td>\n      <td>0.050</td>\n    </tr>\n    <tr>\n      <th>2000-06-30</th>\n      <td>A</td>\n      <td>0.001698</td>\n      <td>0.0464</td>\n      <td>0.1284</td>\n      <td>-0.0842</td>\n      <td>0.040</td>\n    </tr>\n    <tr>\n      <th>2000-07-31</th>\n      <td>A</td>\n      <td>-0.447458</td>\n      <td>-0.0251</td>\n      <td>-0.0307</td>\n      <td>0.0831</td>\n      <td>0.048</td>\n    </tr>\n    <tr>\n      <th>...</th>\n      <td>...</td>\n      <td>...</td>\n      <td>...</td>\n      <td>...</td>\n      <td>...</td>\n      <td>...</td>\n    </tr>\n    <tr>\n      <th>2022-06-30</th>\n      <td>ZTS</td>\n      <td>0.005616</td>\n      <td>-0.0843</td>\n      <td>0.0210</td>\n      <td>-0.0597</td>\n      <td>0.006</td>\n    </tr>\n    <tr>\n      <th>2022-08-31</th>\n      <td>ZTS</td>\n      <td>-0.142536</td>\n      <td>-0.0377</td>\n      <td>0.0140</td>\n      <td>0.0029</td>\n      <td>0.019</td>\n    </tr>\n    <tr>\n      <th>2022-09-30</th>\n      <td>ZTS</td>\n      <td>-0.052642</td>\n      <td>-0.0935</td>\n      <td>-0.0081</td>\n      <td>0.0005</td>\n      <td>0.019</td>\n    </tr>\n    <tr>\n      <th>2022-10-31</th>\n      <td>ZTS</td>\n      <td>0.018952</td>\n      <td>0.0783</td>\n      <td>0.0006</td>\n      <td>0.0801</td>\n      <td>0.023</td>\n    </tr>\n    <tr>\n      <th>2022-11-30</th>\n      <td>ZTS</td>\n      <td>0.022284</td>\n      <td>0.0460</td>\n      <td>-0.0352</td>\n      <td>0.0138</td>\n      <td>0.029</td>\n    </tr>\n  </tbody>\n</table>\n<p>86611 rows × 6 columns</p>\n</div>"
     },
     "execution_count": 42,
     "metadata": {},
     "output_type": "execute_result"
    }
   ],
   "source": [
    "merge_data"
   ],
   "metadata": {
    "collapsed": false,
    "ExecuteTime": {
     "end_time": "2023-10-25T17:33:41.590719Z",
     "start_time": "2023-10-25T17:33:41.530139Z"
    }
   },
   "id": "51bb43b51ae3f73d"
  },
  {
   "cell_type": "code",
   "execution_count": 43,
   "id": "dd10fafbf699543d",
   "metadata": {
    "collapsed": false,
    "ExecuteTime": {
     "end_time": "2023-10-25T17:33:41.741155Z",
     "start_time": "2023-10-25T17:33:41.638489Z"
    }
   },
   "outputs": [
    {
     "data": {
      "text/plain": "\"\\n4., Készíts egy új 'Excess Return' nevű oszlopot, ami a havi hozamok és a kockázat mentes hozam (RF) különbsége\\n\""
     },
     "execution_count": 43,
     "metadata": {},
     "output_type": "execute_result"
    }
   ],
   "source": [
    "\"\"\"\n",
    "4., Készíts egy új 'Excess Return' nevű oszlopot, ami a havi hozamok és a kockázat mentes hozam (RF) különbsége\n",
    "\"\"\""
   ]
  },
  {
   "cell_type": "code",
   "execution_count": 44,
   "outputs": [],
   "source": [
    "merge_data['Excess Return'] = merge_data['Monthly Returns'] - merge_data['RF']"
   ],
   "metadata": {
    "collapsed": false,
    "ExecuteTime": {
     "end_time": "2023-10-25T17:33:41.993067Z",
     "start_time": "2023-10-25T17:33:41.904548Z"
    }
   },
   "id": "fdc8822a72cb19f6"
  },
  {
   "cell_type": "code",
   "execution_count": 45,
   "outputs": [
    {
     "data": {
      "text/plain": "           Symbol  Monthly Returns  Mkt-RF     SMB     HML     RF  \\\nDate                                                                \n2000-02-29      A         0.569405  0.0245  0.2136 -0.0959  0.043   \n2000-03-31      A         0.001203  0.0520 -0.1720  0.0813  0.047   \n2000-05-31      A        -0.169252 -0.0442 -0.0605  0.0475  0.050   \n2000-06-30      A         0.001698  0.0464  0.1284 -0.0842  0.040   \n2000-07-31      A        -0.447458 -0.0251 -0.0307  0.0831  0.048   \n...           ...              ...     ...     ...     ...    ...   \n2022-06-30    ZTS         0.005616 -0.0843  0.0210 -0.0597  0.006   \n2022-08-31    ZTS        -0.142536 -0.0377  0.0140  0.0029  0.019   \n2022-09-30    ZTS        -0.052642 -0.0935 -0.0081  0.0005  0.019   \n2022-10-31    ZTS         0.018952  0.0783  0.0006  0.0801  0.023   \n2022-11-30    ZTS         0.022284  0.0460 -0.0352  0.0138  0.029   \n\n            Excess Return  \nDate                       \n2000-02-29       0.526405  \n2000-03-31      -0.045797  \n2000-05-31      -0.219252  \n2000-06-30      -0.038302  \n2000-07-31      -0.495458  \n...                   ...  \n2022-06-30      -0.000384  \n2022-08-31      -0.161536  \n2022-09-30      -0.071642  \n2022-10-31      -0.004048  \n2022-11-30      -0.006716  \n\n[86611 rows x 7 columns]",
      "text/html": "<div>\n<style scoped>\n    .dataframe tbody tr th:only-of-type {\n        vertical-align: middle;\n    }\n\n    .dataframe tbody tr th {\n        vertical-align: top;\n    }\n\n    .dataframe thead th {\n        text-align: right;\n    }\n</style>\n<table border=\"1\" class=\"dataframe\">\n  <thead>\n    <tr style=\"text-align: right;\">\n      <th></th>\n      <th>Symbol</th>\n      <th>Monthly Returns</th>\n      <th>Mkt-RF</th>\n      <th>SMB</th>\n      <th>HML</th>\n      <th>RF</th>\n      <th>Excess Return</th>\n    </tr>\n    <tr>\n      <th>Date</th>\n      <th></th>\n      <th></th>\n      <th></th>\n      <th></th>\n      <th></th>\n      <th></th>\n      <th></th>\n    </tr>\n  </thead>\n  <tbody>\n    <tr>\n      <th>2000-02-29</th>\n      <td>A</td>\n      <td>0.569405</td>\n      <td>0.0245</td>\n      <td>0.2136</td>\n      <td>-0.0959</td>\n      <td>0.043</td>\n      <td>0.526405</td>\n    </tr>\n    <tr>\n      <th>2000-03-31</th>\n      <td>A</td>\n      <td>0.001203</td>\n      <td>0.0520</td>\n      <td>-0.1720</td>\n      <td>0.0813</td>\n      <td>0.047</td>\n      <td>-0.045797</td>\n    </tr>\n    <tr>\n      <th>2000-05-31</th>\n      <td>A</td>\n      <td>-0.169252</td>\n      <td>-0.0442</td>\n      <td>-0.0605</td>\n      <td>0.0475</td>\n      <td>0.050</td>\n      <td>-0.219252</td>\n    </tr>\n    <tr>\n      <th>2000-06-30</th>\n      <td>A</td>\n      <td>0.001698</td>\n      <td>0.0464</td>\n      <td>0.1284</td>\n      <td>-0.0842</td>\n      <td>0.040</td>\n      <td>-0.038302</td>\n    </tr>\n    <tr>\n      <th>2000-07-31</th>\n      <td>A</td>\n      <td>-0.447458</td>\n      <td>-0.0251</td>\n      <td>-0.0307</td>\n      <td>0.0831</td>\n      <td>0.048</td>\n      <td>-0.495458</td>\n    </tr>\n    <tr>\n      <th>...</th>\n      <td>...</td>\n      <td>...</td>\n      <td>...</td>\n      <td>...</td>\n      <td>...</td>\n      <td>...</td>\n      <td>...</td>\n    </tr>\n    <tr>\n      <th>2022-06-30</th>\n      <td>ZTS</td>\n      <td>0.005616</td>\n      <td>-0.0843</td>\n      <td>0.0210</td>\n      <td>-0.0597</td>\n      <td>0.006</td>\n      <td>-0.000384</td>\n    </tr>\n    <tr>\n      <th>2022-08-31</th>\n      <td>ZTS</td>\n      <td>-0.142536</td>\n      <td>-0.0377</td>\n      <td>0.0140</td>\n      <td>0.0029</td>\n      <td>0.019</td>\n      <td>-0.161536</td>\n    </tr>\n    <tr>\n      <th>2022-09-30</th>\n      <td>ZTS</td>\n      <td>-0.052642</td>\n      <td>-0.0935</td>\n      <td>-0.0081</td>\n      <td>0.0005</td>\n      <td>0.019</td>\n      <td>-0.071642</td>\n    </tr>\n    <tr>\n      <th>2022-10-31</th>\n      <td>ZTS</td>\n      <td>0.018952</td>\n      <td>0.0783</td>\n      <td>0.0006</td>\n      <td>0.0801</td>\n      <td>0.023</td>\n      <td>-0.004048</td>\n    </tr>\n    <tr>\n      <th>2022-11-30</th>\n      <td>ZTS</td>\n      <td>0.022284</td>\n      <td>0.0460</td>\n      <td>-0.0352</td>\n      <td>0.0138</td>\n      <td>0.029</td>\n      <td>-0.006716</td>\n    </tr>\n  </tbody>\n</table>\n<p>86611 rows × 7 columns</p>\n</div>"
     },
     "execution_count": 45,
     "metadata": {},
     "output_type": "execute_result"
    }
   ],
   "source": [
    "merge_data"
   ],
   "metadata": {
    "collapsed": false,
    "ExecuteTime": {
     "end_time": "2023-10-25T17:33:42.155395Z",
     "start_time": "2023-10-25T17:33:41.974077Z"
    }
   },
   "id": "bd322b281145ed7d"
  },
  {
   "cell_type": "code",
   "execution_count": 46,
   "outputs": [
    {
     "data": {
      "text/plain": "\"\\n5., Rendezd sorba dátum szerint az adatokat, majd generálj egy új oszlopot ('ex_ret_1'), amely minden ticker ('Symbol') esetén 1-el eltolja az Excess Return értékeit olyan módon, hogy minden sorban szerepeljen a következő időszaki Excess Return érték. \\n\""
     },
     "execution_count": 46,
     "metadata": {},
     "output_type": "execute_result"
    }
   ],
   "source": [
    "\"\"\"\n",
    "5., Rendezd sorba dátum szerint az adatokat, majd generálj egy új oszlopot ('ex_ret_1'), amely minden ticker ('Symbol') esetén 1-el eltolja az Excess Return értékeit olyan módon, hogy minden sorban szerepeljen a következő időszaki Excess Return érték. \n",
    "\"\"\""
   ],
   "metadata": {
    "collapsed": false,
    "ExecuteTime": {
     "end_time": "2023-10-25T17:33:42.239338Z",
     "start_time": "2023-10-25T17:33:42.055105Z"
    }
   },
   "id": "c6af93a4a3c53398"
  },
  {
   "cell_type": "markdown",
   "source": [],
   "metadata": {
    "collapsed": false
   },
   "id": "c82eca5a369d39ab"
  },
  {
   "cell_type": "code",
   "execution_count": 47,
   "outputs": [],
   "source": [
    "merge_data = merge_data.sort_values(by=['Symbol', 'Date'])\n",
    "merge_data['ex_ret_1'] = merge_data.groupby('Symbol')['Excess Return'].shift(-1)"
   ],
   "metadata": {
    "collapsed": false,
    "ExecuteTime": {
     "end_time": "2023-10-25T17:33:44.363027Z",
     "start_time": "2023-10-25T17:33:44.326775Z"
    }
   },
   "id": "1e11bae23ce7002f"
  },
  {
   "cell_type": "code",
   "execution_count": 48,
   "outputs": [
    {
     "data": {
      "text/plain": "           Symbol  Monthly Returns  Mkt-RF     SMB     HML     RF  \\\nDate                                                                \n2000-02-29      A         0.569405  0.0245  0.2136 -0.0959  0.043   \n2000-03-31      A         0.001203  0.0520 -0.1720  0.0813  0.047   \n2000-05-31      A        -0.169252 -0.0442 -0.0605  0.0475  0.050   \n2000-06-30      A         0.001698  0.0464  0.1284 -0.0842  0.040   \n2000-07-31      A        -0.447458 -0.0251 -0.0307  0.0831  0.048   \n...           ...              ...     ...     ...     ...    ...   \n2022-06-30    ZTS         0.005616 -0.0843  0.0210 -0.0597  0.006   \n2022-08-31    ZTS        -0.142536 -0.0377  0.0140  0.0029  0.019   \n2022-09-30    ZTS        -0.052642 -0.0935 -0.0081  0.0005  0.019   \n2022-10-31    ZTS         0.018952  0.0783  0.0006  0.0801  0.023   \n2022-11-30    ZTS         0.022284  0.0460 -0.0352  0.0138  0.029   \n\n            Excess Return  ex_ret_1  \nDate                                 \n2000-02-29       0.526405 -0.045797  \n2000-03-31      -0.045797 -0.219252  \n2000-05-31      -0.219252 -0.038302  \n2000-06-30      -0.038302 -0.495458  \n2000-07-31      -0.495458  0.446933  \n...                   ...       ...  \n2022-06-30      -0.000384 -0.161536  \n2022-08-31      -0.161536 -0.071642  \n2022-09-30      -0.071642 -0.004048  \n2022-10-31      -0.004048 -0.006716  \n2022-11-30      -0.006716       NaN  \n\n[86611 rows x 8 columns]",
      "text/html": "<div>\n<style scoped>\n    .dataframe tbody tr th:only-of-type {\n        vertical-align: middle;\n    }\n\n    .dataframe tbody tr th {\n        vertical-align: top;\n    }\n\n    .dataframe thead th {\n        text-align: right;\n    }\n</style>\n<table border=\"1\" class=\"dataframe\">\n  <thead>\n    <tr style=\"text-align: right;\">\n      <th></th>\n      <th>Symbol</th>\n      <th>Monthly Returns</th>\n      <th>Mkt-RF</th>\n      <th>SMB</th>\n      <th>HML</th>\n      <th>RF</th>\n      <th>Excess Return</th>\n      <th>ex_ret_1</th>\n    </tr>\n    <tr>\n      <th>Date</th>\n      <th></th>\n      <th></th>\n      <th></th>\n      <th></th>\n      <th></th>\n      <th></th>\n      <th></th>\n      <th></th>\n    </tr>\n  </thead>\n  <tbody>\n    <tr>\n      <th>2000-02-29</th>\n      <td>A</td>\n      <td>0.569405</td>\n      <td>0.0245</td>\n      <td>0.2136</td>\n      <td>-0.0959</td>\n      <td>0.043</td>\n      <td>0.526405</td>\n      <td>-0.045797</td>\n    </tr>\n    <tr>\n      <th>2000-03-31</th>\n      <td>A</td>\n      <td>0.001203</td>\n      <td>0.0520</td>\n      <td>-0.1720</td>\n      <td>0.0813</td>\n      <td>0.047</td>\n      <td>-0.045797</td>\n      <td>-0.219252</td>\n    </tr>\n    <tr>\n      <th>2000-05-31</th>\n      <td>A</td>\n      <td>-0.169252</td>\n      <td>-0.0442</td>\n      <td>-0.0605</td>\n      <td>0.0475</td>\n      <td>0.050</td>\n      <td>-0.219252</td>\n      <td>-0.038302</td>\n    </tr>\n    <tr>\n      <th>2000-06-30</th>\n      <td>A</td>\n      <td>0.001698</td>\n      <td>0.0464</td>\n      <td>0.1284</td>\n      <td>-0.0842</td>\n      <td>0.040</td>\n      <td>-0.038302</td>\n      <td>-0.495458</td>\n    </tr>\n    <tr>\n      <th>2000-07-31</th>\n      <td>A</td>\n      <td>-0.447458</td>\n      <td>-0.0251</td>\n      <td>-0.0307</td>\n      <td>0.0831</td>\n      <td>0.048</td>\n      <td>-0.495458</td>\n      <td>0.446933</td>\n    </tr>\n    <tr>\n      <th>...</th>\n      <td>...</td>\n      <td>...</td>\n      <td>...</td>\n      <td>...</td>\n      <td>...</td>\n      <td>...</td>\n      <td>...</td>\n      <td>...</td>\n    </tr>\n    <tr>\n      <th>2022-06-30</th>\n      <td>ZTS</td>\n      <td>0.005616</td>\n      <td>-0.0843</td>\n      <td>0.0210</td>\n      <td>-0.0597</td>\n      <td>0.006</td>\n      <td>-0.000384</td>\n      <td>-0.161536</td>\n    </tr>\n    <tr>\n      <th>2022-08-31</th>\n      <td>ZTS</td>\n      <td>-0.142536</td>\n      <td>-0.0377</td>\n      <td>0.0140</td>\n      <td>0.0029</td>\n      <td>0.019</td>\n      <td>-0.161536</td>\n      <td>-0.071642</td>\n    </tr>\n    <tr>\n      <th>2022-09-30</th>\n      <td>ZTS</td>\n      <td>-0.052642</td>\n      <td>-0.0935</td>\n      <td>-0.0081</td>\n      <td>0.0005</td>\n      <td>0.019</td>\n      <td>-0.071642</td>\n      <td>-0.004048</td>\n    </tr>\n    <tr>\n      <th>2022-10-31</th>\n      <td>ZTS</td>\n      <td>0.018952</td>\n      <td>0.0783</td>\n      <td>0.0006</td>\n      <td>0.0801</td>\n      <td>0.023</td>\n      <td>-0.004048</td>\n      <td>-0.006716</td>\n    </tr>\n    <tr>\n      <th>2022-11-30</th>\n      <td>ZTS</td>\n      <td>0.022284</td>\n      <td>0.0460</td>\n      <td>-0.0352</td>\n      <td>0.0138</td>\n      <td>0.029</td>\n      <td>-0.006716</td>\n      <td>NaN</td>\n    </tr>\n  </tbody>\n</table>\n<p>86611 rows × 8 columns</p>\n</div>"
     },
     "execution_count": 48,
     "metadata": {},
     "output_type": "execute_result"
    }
   ],
   "source": [
    "merge_data"
   ],
   "metadata": {
    "collapsed": false,
    "ExecuteTime": {
     "end_time": "2023-10-25T17:33:45.947422Z",
     "start_time": "2023-10-25T17:33:45.928753Z"
    }
   },
   "id": "670930abe3fdc616"
  },
  {
   "cell_type": "markdown",
   "source": [
    "![new column](../resources/weekly6/ex_ret_1.jpg)"
   ],
   "metadata": {
    "collapsed": false
   },
   "id": "a6be746933376572"
  },
  {
   "cell_type": "code",
   "execution_count": 54,
   "outputs": [],
   "source": [
    "missing_count = merge_data['ex_ret_1'].isna().sum()"
   ],
   "metadata": {
    "collapsed": false,
    "ExecuteTime": {
     "end_time": "2023-10-25T17:34:33.768886Z",
     "start_time": "2023-10-25T17:34:33.758245Z"
    }
   },
   "id": "2285003630c207d3"
  },
  {
   "cell_type": "code",
   "execution_count": 55,
   "outputs": [
    {
     "data": {
      "text/plain": "498"
     },
     "execution_count": 55,
     "metadata": {},
     "output_type": "execute_result"
    }
   ],
   "source": [
    "missing_count"
   ],
   "metadata": {
    "collapsed": false,
    "ExecuteTime": {
     "end_time": "2023-10-25T17:34:34.294481Z",
     "start_time": "2023-10-25T17:34:34.279138Z"
    }
   },
   "id": "5455a718885d430d"
  },
  {
   "cell_type": "code",
   "execution_count": null,
   "id": "30fd1aa0c59afb47",
   "metadata": {
    "collapsed": false
   },
   "outputs": [],
   "source": [
    "\"\"\"\n",
    "6., A meglévő adathalmazt írd felül olyan módon, hogy egyszer törlöd az össze olyan sort, amely az 'ex_ret_1' oszlopban hiányos, majd ezt követően, törlöd az összes olyan sort, ami a 'HML' oszlopban hiányos\n",
    "\"\"\""
   ]
  },
  {
   "cell_type": "code",
   "execution_count": 56,
   "outputs": [],
   "source": [
    "merge_data = merge_data.dropna(subset=['ex_ret_1'])\n",
    "merge_data = merge_data.dropna(subset=['HML'])"
   ],
   "metadata": {
    "collapsed": false,
    "ExecuteTime": {
     "end_time": "2023-10-25T17:34:42.941428Z",
     "start_time": "2023-10-25T17:34:42.902001Z"
    }
   },
   "id": "f333cdfad16d315f"
  },
  {
   "cell_type": "code",
   "execution_count": 57,
   "outputs": [
    {
     "data": {
      "text/plain": "           Symbol  Monthly Returns  Mkt-RF     SMB     HML     RF  \\\nDate                                                                \n2000-02-29      A         0.569405  0.0245  0.2136 -0.0959  0.043   \n2000-03-31      A         0.001203  0.0520 -0.1720  0.0813  0.047   \n2000-05-31      A        -0.169252 -0.0442 -0.0605  0.0475  0.050   \n2000-06-30      A         0.001698  0.0464  0.1284 -0.0842  0.040   \n2000-07-31      A        -0.447458 -0.0251 -0.0307  0.0831  0.048   \n...           ...              ...     ...     ...     ...    ...   \n2022-05-31    ZTS        -0.035656 -0.0034 -0.0183  0.0839  0.003   \n2022-06-30    ZTS         0.005616 -0.0843  0.0210 -0.0597  0.006   \n2022-08-31    ZTS        -0.142536 -0.0377  0.0140  0.0029  0.019   \n2022-09-30    ZTS        -0.052642 -0.0935 -0.0081  0.0005  0.019   \n2022-10-31    ZTS         0.018952  0.0783  0.0006  0.0801  0.023   \n\n            Excess Return  ex_ret_1  \nDate                                 \n2000-02-29       0.526405 -0.045797  \n2000-03-31      -0.045797 -0.219252  \n2000-05-31      -0.219252 -0.038302  \n2000-06-30      -0.038302 -0.495458  \n2000-07-31      -0.495458  0.446933  \n...                   ...       ...  \n2022-05-31      -0.038656 -0.000384  \n2022-06-30      -0.000384 -0.161536  \n2022-08-31      -0.161536 -0.071642  \n2022-09-30      -0.071642 -0.004048  \n2022-10-31      -0.004048 -0.006716  \n\n[86113 rows x 8 columns]",
      "text/html": "<div>\n<style scoped>\n    .dataframe tbody tr th:only-of-type {\n        vertical-align: middle;\n    }\n\n    .dataframe tbody tr th {\n        vertical-align: top;\n    }\n\n    .dataframe thead th {\n        text-align: right;\n    }\n</style>\n<table border=\"1\" class=\"dataframe\">\n  <thead>\n    <tr style=\"text-align: right;\">\n      <th></th>\n      <th>Symbol</th>\n      <th>Monthly Returns</th>\n      <th>Mkt-RF</th>\n      <th>SMB</th>\n      <th>HML</th>\n      <th>RF</th>\n      <th>Excess Return</th>\n      <th>ex_ret_1</th>\n    </tr>\n    <tr>\n      <th>Date</th>\n      <th></th>\n      <th></th>\n      <th></th>\n      <th></th>\n      <th></th>\n      <th></th>\n      <th></th>\n      <th></th>\n    </tr>\n  </thead>\n  <tbody>\n    <tr>\n      <th>2000-02-29</th>\n      <td>A</td>\n      <td>0.569405</td>\n      <td>0.0245</td>\n      <td>0.2136</td>\n      <td>-0.0959</td>\n      <td>0.043</td>\n      <td>0.526405</td>\n      <td>-0.045797</td>\n    </tr>\n    <tr>\n      <th>2000-03-31</th>\n      <td>A</td>\n      <td>0.001203</td>\n      <td>0.0520</td>\n      <td>-0.1720</td>\n      <td>0.0813</td>\n      <td>0.047</td>\n      <td>-0.045797</td>\n      <td>-0.219252</td>\n    </tr>\n    <tr>\n      <th>2000-05-31</th>\n      <td>A</td>\n      <td>-0.169252</td>\n      <td>-0.0442</td>\n      <td>-0.0605</td>\n      <td>0.0475</td>\n      <td>0.050</td>\n      <td>-0.219252</td>\n      <td>-0.038302</td>\n    </tr>\n    <tr>\n      <th>2000-06-30</th>\n      <td>A</td>\n      <td>0.001698</td>\n      <td>0.0464</td>\n      <td>0.1284</td>\n      <td>-0.0842</td>\n      <td>0.040</td>\n      <td>-0.038302</td>\n      <td>-0.495458</td>\n    </tr>\n    <tr>\n      <th>2000-07-31</th>\n      <td>A</td>\n      <td>-0.447458</td>\n      <td>-0.0251</td>\n      <td>-0.0307</td>\n      <td>0.0831</td>\n      <td>0.048</td>\n      <td>-0.495458</td>\n      <td>0.446933</td>\n    </tr>\n    <tr>\n      <th>...</th>\n      <td>...</td>\n      <td>...</td>\n      <td>...</td>\n      <td>...</td>\n      <td>...</td>\n      <td>...</td>\n      <td>...</td>\n      <td>...</td>\n    </tr>\n    <tr>\n      <th>2022-05-31</th>\n      <td>ZTS</td>\n      <td>-0.035656</td>\n      <td>-0.0034</td>\n      <td>-0.0183</td>\n      <td>0.0839</td>\n      <td>0.003</td>\n      <td>-0.038656</td>\n      <td>-0.000384</td>\n    </tr>\n    <tr>\n      <th>2022-06-30</th>\n      <td>ZTS</td>\n      <td>0.005616</td>\n      <td>-0.0843</td>\n      <td>0.0210</td>\n      <td>-0.0597</td>\n      <td>0.006</td>\n      <td>-0.000384</td>\n      <td>-0.161536</td>\n    </tr>\n    <tr>\n      <th>2022-08-31</th>\n      <td>ZTS</td>\n      <td>-0.142536</td>\n      <td>-0.0377</td>\n      <td>0.0140</td>\n      <td>0.0029</td>\n      <td>0.019</td>\n      <td>-0.161536</td>\n      <td>-0.071642</td>\n    </tr>\n    <tr>\n      <th>2022-09-30</th>\n      <td>ZTS</td>\n      <td>-0.052642</td>\n      <td>-0.0935</td>\n      <td>-0.0081</td>\n      <td>0.0005</td>\n      <td>0.019</td>\n      <td>-0.071642</td>\n      <td>-0.004048</td>\n    </tr>\n    <tr>\n      <th>2022-10-31</th>\n      <td>ZTS</td>\n      <td>0.018952</td>\n      <td>0.0783</td>\n      <td>0.0006</td>\n      <td>0.0801</td>\n      <td>0.023</td>\n      <td>-0.004048</td>\n      <td>-0.006716</td>\n    </tr>\n  </tbody>\n</table>\n<p>86113 rows × 8 columns</p>\n</div>"
     },
     "execution_count": 57,
     "metadata": {},
     "output_type": "execute_result"
    }
   ],
   "source": [
    "merge_data"
   ],
   "metadata": {
    "collapsed": false,
    "ExecuteTime": {
     "end_time": "2023-10-25T17:34:43.785202Z",
     "start_time": "2023-10-25T17:34:43.773161Z"
    }
   },
   "id": "3aebb3a1f8a02c06"
  },
  {
   "cell_type": "code",
   "execution_count": null,
   "id": "4637c401e0e6352c",
   "metadata": {
    "collapsed": false
   },
   "outputs": [],
   "source": [
    "\"\"\"\n",
    "A meglévő adatokból válaszd ki a Amazon részvényhez tartozó sorokat (AMZN) és töröld a tickereket tartalmazó oszlopot\n",
    "\n",
    "7., Készíts egy új LinearRegressionSM elnevezésű osztályt. Definiáld benne a __init__ nevű függvényt, amely bemenetként 2 DataDrame-t kap amelyeket ments le a left_hand_side és right_hand_side elnevezésű változókba. Az egyik DataFrame fogja tartalmazni a következő hónap többlet hozamait (left_hand_side), a másik a piaci hozamokat (Mkt-RF), az SMB és a HML értékeket (right_hand_side).\n",
    "\n",
    "8., Egésztsd ki az osztályt egy fit metódussal, ami meghívja a statsmodels segítségével OLS alapon becsült modellt illeszt az osztály adattagjaira. A becslésből visszakapott modellt mentse le az osztály _model adattagjába. Figyelj oda, hogy a regresszió futtatása során konstans (alfa / béta_0) is szerepeljen a predictor változók között.\n",
    "\n",
    "9., Egészítsd ki az osztályt egy get_params metódussal, ami visszaadja a becsült modellt béta paramétereinek értékeit. A visszakapott pandas Series típusú adatban az oszlop neve legyen 'Beta coefficients'\n",
    "\n",
    "10., Egészítsd ki az osztályt egy get_pvalues metódussal, ami visszaadja a becsült modell paraméterekhez tartozó p értékeket. A visszakapott pandas Series típusú adatban az oszlop neve legyen: P-values for the corresponding coefficients\n",
    "\n",
    "11., Egészítsd ki az osztályt egy get_wald_test_result metódussal, ami visszaadja a bemeneti restrikciós mátrix alapján számolt F és p értékeket. A visszatérési típus string legyen, a visszaadandó szöveg: F-value: fvalue, p-value: pvalue, ahol az fvalue és pvalue helyére 3 tizedesjegyre kerekítve adja meg a hozzájuk tartozó értékeket.\n",
    "\n",
    "12., Egészítse ki az osztályt egy get_model_goodness_values metódussal, ami visszadja a módosított R-négyzet, az Akaike és a Bayes információs kritériumok értékét. A visszatérési típus string legyen, a visszaadandó szöveg: Adjusted R-squared: ars, Akaike IC: ak, Bayes IC: by, ahol ars, ak és by helyére 3 tizedesjegyre kerekítve adja meg a hozzájuk tartozó értékeket.\n",
    "\n",
    "A létrehozott osztályt és a hozzátartozó metódusokat mentsd le a src.linear_regression mappába, a LinearRegressions.py fájlba.\n",
    "\"\"\""
   ]
  },
  {
   "cell_type": "code",
   "execution_count": 58,
   "outputs": [],
   "source": [
    "amazon = merge_data[merge_data['Symbol'] == 'AMZN']\n",
    "amazon = amazon.drop(columns=['Symbol'])"
   ],
   "metadata": {
    "collapsed": false,
    "ExecuteTime": {
     "end_time": "2023-10-25T17:37:36.327163Z",
     "start_time": "2023-10-25T17:37:36.298943Z"
    }
   },
   "id": "632e9b84be1a75ef"
  },
  {
   "cell_type": "code",
   "execution_count": 59,
   "outputs": [
    {
     "data": {
      "text/plain": "            Monthly Returns  Mkt-RF     SMB     HML     RF  Excess Return  \\\nDate                                                                        \n2000-01-31        -0.984367 -0.0474  0.0577 -0.0188  0.041      -1.025367   \n2000-02-29         0.066796  0.0245  0.2136 -0.0959  0.043       0.023796   \n2000-03-31        -0.027223  0.0520 -0.1720  0.0813  0.047      -0.074223   \n2000-05-31        -0.124575 -0.0442 -0.0605  0.0475  0.050      -0.174575   \n2000-06-30        -0.248383  0.0464  0.1284 -0.0842  0.040      -0.288383   \n...                     ...     ...     ...     ...    ...            ...   \n2022-05-31        -0.032764 -0.0034 -0.0183  0.0839  0.003      -0.035764   \n2022-06-30        -0.116459 -0.0843  0.0210 -0.0597  0.006      -0.122459   \n2022-08-31        -0.060615 -0.0377  0.0140  0.0029  0.019      -0.079615   \n2022-09-30        -0.108622 -0.0935 -0.0081  0.0005  0.019      -0.127622   \n2022-10-31        -0.093451  0.0783  0.0006  0.0801  0.023      -0.116451   \n\n            ex_ret_1  \nDate                  \n2000-01-31  0.023796  \n2000-02-29 -0.074223  \n2000-03-31 -0.174575  \n2000-05-31 -0.288383  \n2000-06-30 -0.218396  \n...              ...  \n2022-05-31 -0.122459  \n2022-06-30 -0.079615  \n2022-08-31 -0.127622  \n2022-09-30 -0.116451  \n2022-10-31 -0.086595  \n\n[194 rows x 7 columns]",
      "text/html": "<div>\n<style scoped>\n    .dataframe tbody tr th:only-of-type {\n        vertical-align: middle;\n    }\n\n    .dataframe tbody tr th {\n        vertical-align: top;\n    }\n\n    .dataframe thead th {\n        text-align: right;\n    }\n</style>\n<table border=\"1\" class=\"dataframe\">\n  <thead>\n    <tr style=\"text-align: right;\">\n      <th></th>\n      <th>Monthly Returns</th>\n      <th>Mkt-RF</th>\n      <th>SMB</th>\n      <th>HML</th>\n      <th>RF</th>\n      <th>Excess Return</th>\n      <th>ex_ret_1</th>\n    </tr>\n    <tr>\n      <th>Date</th>\n      <th></th>\n      <th></th>\n      <th></th>\n      <th></th>\n      <th></th>\n      <th></th>\n      <th></th>\n    </tr>\n  </thead>\n  <tbody>\n    <tr>\n      <th>2000-01-31</th>\n      <td>-0.984367</td>\n      <td>-0.0474</td>\n      <td>0.0577</td>\n      <td>-0.0188</td>\n      <td>0.041</td>\n      <td>-1.025367</td>\n      <td>0.023796</td>\n    </tr>\n    <tr>\n      <th>2000-02-29</th>\n      <td>0.066796</td>\n      <td>0.0245</td>\n      <td>0.2136</td>\n      <td>-0.0959</td>\n      <td>0.043</td>\n      <td>0.023796</td>\n      <td>-0.074223</td>\n    </tr>\n    <tr>\n      <th>2000-03-31</th>\n      <td>-0.027223</td>\n      <td>0.0520</td>\n      <td>-0.1720</td>\n      <td>0.0813</td>\n      <td>0.047</td>\n      <td>-0.074223</td>\n      <td>-0.174575</td>\n    </tr>\n    <tr>\n      <th>2000-05-31</th>\n      <td>-0.124575</td>\n      <td>-0.0442</td>\n      <td>-0.0605</td>\n      <td>0.0475</td>\n      <td>0.050</td>\n      <td>-0.174575</td>\n      <td>-0.288383</td>\n    </tr>\n    <tr>\n      <th>2000-06-30</th>\n      <td>-0.248383</td>\n      <td>0.0464</td>\n      <td>0.1284</td>\n      <td>-0.0842</td>\n      <td>0.040</td>\n      <td>-0.288383</td>\n      <td>-0.218396</td>\n    </tr>\n    <tr>\n      <th>...</th>\n      <td>...</td>\n      <td>...</td>\n      <td>...</td>\n      <td>...</td>\n      <td>...</td>\n      <td>...</td>\n      <td>...</td>\n    </tr>\n    <tr>\n      <th>2022-05-31</th>\n      <td>-0.032764</td>\n      <td>-0.0034</td>\n      <td>-0.0183</td>\n      <td>0.0839</td>\n      <td>0.003</td>\n      <td>-0.035764</td>\n      <td>-0.122459</td>\n    </tr>\n    <tr>\n      <th>2022-06-30</th>\n      <td>-0.116459</td>\n      <td>-0.0843</td>\n      <td>0.0210</td>\n      <td>-0.0597</td>\n      <td>0.006</td>\n      <td>-0.122459</td>\n      <td>-0.079615</td>\n    </tr>\n    <tr>\n      <th>2022-08-31</th>\n      <td>-0.060615</td>\n      <td>-0.0377</td>\n      <td>0.0140</td>\n      <td>0.0029</td>\n      <td>0.019</td>\n      <td>-0.079615</td>\n      <td>-0.127622</td>\n    </tr>\n    <tr>\n      <th>2022-09-30</th>\n      <td>-0.108622</td>\n      <td>-0.0935</td>\n      <td>-0.0081</td>\n      <td>0.0005</td>\n      <td>0.019</td>\n      <td>-0.127622</td>\n      <td>-0.116451</td>\n    </tr>\n    <tr>\n      <th>2022-10-31</th>\n      <td>-0.093451</td>\n      <td>0.0783</td>\n      <td>0.0006</td>\n      <td>0.0801</td>\n      <td>0.023</td>\n      <td>-0.116451</td>\n      <td>-0.086595</td>\n    </tr>\n  </tbody>\n</table>\n<p>194 rows × 7 columns</p>\n</div>"
     },
     "execution_count": 59,
     "metadata": {},
     "output_type": "execute_result"
    }
   ],
   "source": [
    "amazon"
   ],
   "metadata": {
    "collapsed": false,
    "ExecuteTime": {
     "end_time": "2023-10-25T17:37:38.530419Z",
     "start_time": "2023-10-25T17:37:38.509888Z"
    }
   },
   "id": "39847bf28ea92cb0"
  }
 ],
 "metadata": {
  "kernelspec": {
   "display_name": "Python 3 (ipykernel)",
   "language": "python",
   "name": "python3"
  },
  "language_info": {
   "codemirror_mode": {
    "name": "ipython",
    "version": 3
   },
   "file_extension": ".py",
   "mimetype": "text/x-python",
   "name": "python",
   "nbconvert_exporter": "python",
   "pygments_lexer": "ipython3",
   "version": "3.10.4"
  }
 },
 "nbformat": 4,
 "nbformat_minor": 5
}
